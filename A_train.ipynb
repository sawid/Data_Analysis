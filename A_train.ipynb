{
 "cells": [
  {
   "cell_type": "code",
   "execution_count": 106,
   "id": "aa49fe4a",
   "metadata": {},
   "outputs": [],
   "source": [
    "import numpy as np\n",
    "import pandas as pd\n",
    "from sklearn.linear_model import LinearRegression\n",
    "import seaborn as sns\n",
    "from sklearn import preprocessing\n",
    "from sklearn import metrics\n",
    "from sklearn.metrics import r2_score"
   ]
  },
  {
   "cell_type": "code",
   "execution_count": 107,
   "id": "dbcfc914",
   "metadata": {},
   "outputs": [],
   "source": [
    "df = pd.read_csv('A-train.csv')\n"
   ]
  },
  {
   "cell_type": "code",
   "execution_count": 108,
   "id": "b240ab52",
   "metadata": {},
   "outputs": [
    {
     "name": "stdout",
     "output_type": "stream",
     "text": [
      "<class 'pandas.core.frame.DataFrame'>\n",
      "RangeIndex: 190 entries, 0 to 189\n",
      "Data columns (total 9 columns):\n",
      " #   Column  Non-Null Count  Dtype  \n",
      "---  ------  --------------  -----  \n",
      " 0   x1      181 non-null    float64\n",
      " 1   x2      180 non-null    float64\n",
      " 2   x3      180 non-null    float64\n",
      " 3   x4      181 non-null    float64\n",
      " 4   x5      180 non-null    float64\n",
      " 5   x6      180 non-null    float64\n",
      " 6   x7      180 non-null    float64\n",
      " 7   x8      181 non-null    float64\n",
      " 8   y       188 non-null    float64\n",
      "dtypes: float64(9)\n",
      "memory usage: 13.5 KB\n"
     ]
    }
   ],
   "source": [
    "df.info()"
   ]
  },
  {
   "cell_type": "code",
   "execution_count": 109,
   "id": "d304d038",
   "metadata": {},
   "outputs": [
    {
     "data": {
      "text/html": [
       "<div>\n",
       "<style scoped>\n",
       "    .dataframe tbody tr th:only-of-type {\n",
       "        vertical-align: middle;\n",
       "    }\n",
       "\n",
       "    .dataframe tbody tr th {\n",
       "        vertical-align: top;\n",
       "    }\n",
       "\n",
       "    .dataframe thead th {\n",
       "        text-align: right;\n",
       "    }\n",
       "</style>\n",
       "<table border=\"1\" class=\"dataframe\">\n",
       "  <thead>\n",
       "    <tr style=\"text-align: right;\">\n",
       "      <th></th>\n",
       "      <th>x1</th>\n",
       "      <th>x2</th>\n",
       "      <th>x3</th>\n",
       "      <th>x4</th>\n",
       "      <th>x5</th>\n",
       "      <th>x6</th>\n",
       "      <th>x7</th>\n",
       "      <th>x8</th>\n",
       "      <th>y</th>\n",
       "    </tr>\n",
       "  </thead>\n",
       "  <tbody>\n",
       "    <tr>\n",
       "      <th>count</th>\n",
       "      <td>181.000000</td>\n",
       "      <td>180.000000</td>\n",
       "      <td>180.000000</td>\n",
       "      <td>1.810000e+02</td>\n",
       "      <td>180.000000</td>\n",
       "      <td>180.000000</td>\n",
       "      <td>180.000000</td>\n",
       "      <td>181.000000</td>\n",
       "      <td>188.000000</td>\n",
       "    </tr>\n",
       "    <tr>\n",
       "      <th>mean</th>\n",
       "      <td>6.314309</td>\n",
       "      <td>6.777722</td>\n",
       "      <td>2.463778</td>\n",
       "      <td>1.386800e+05</td>\n",
       "      <td>-0.053111</td>\n",
       "      <td>1.386444</td>\n",
       "      <td>-0.243444</td>\n",
       "      <td>-0.412652</td>\n",
       "      <td>3.949309</td>\n",
       "    </tr>\n",
       "    <tr>\n",
       "      <th>std</th>\n",
       "      <td>386.982400</td>\n",
       "      <td>363.353742</td>\n",
       "      <td>453.783083</td>\n",
       "      <td>8.599234e+05</td>\n",
       "      <td>35.906821</td>\n",
       "      <td>32.370122</td>\n",
       "      <td>34.640373</td>\n",
       "      <td>31.525100</td>\n",
       "      <td>8.350511</td>\n",
       "    </tr>\n",
       "    <tr>\n",
       "      <th>min</th>\n",
       "      <td>-2749.920000</td>\n",
       "      <td>-2327.200000</td>\n",
       "      <td>-2771.100000</td>\n",
       "      <td>4.800000e-01</td>\n",
       "      <td>-234.990000</td>\n",
       "      <td>-223.920000</td>\n",
       "      <td>-225.450000</td>\n",
       "      <td>-194.560000</td>\n",
       "      <td>-15.510000</td>\n",
       "    </tr>\n",
       "    <tr>\n",
       "      <th>25%</th>\n",
       "      <td>-62.680000</td>\n",
       "      <td>-61.442500</td>\n",
       "      <td>-60.385000</td>\n",
       "      <td>1.266650e+03</td>\n",
       "      <td>-6.060000</td>\n",
       "      <td>-4.710000</td>\n",
       "      <td>-5.907500</td>\n",
       "      <td>-7.200000</td>\n",
       "      <td>-2.260000</td>\n",
       "    </tr>\n",
       "    <tr>\n",
       "      <th>50%</th>\n",
       "      <td>12.210000</td>\n",
       "      <td>12.595000</td>\n",
       "      <td>1.815000</td>\n",
       "      <td>4.546800e+03</td>\n",
       "      <td>-0.760000</td>\n",
       "      <td>2.180000</td>\n",
       "      <td>-0.295000</td>\n",
       "      <td>-0.160000</td>\n",
       "      <td>3.555000</td>\n",
       "    </tr>\n",
       "    <tr>\n",
       "      <th>75%</th>\n",
       "      <td>75.650000</td>\n",
       "      <td>81.890000</td>\n",
       "      <td>53.740000</td>\n",
       "      <td>1.289133e+04</td>\n",
       "      <td>6.667500</td>\n",
       "      <td>8.462500</td>\n",
       "      <td>6.075000</td>\n",
       "      <td>6.600000</td>\n",
       "      <td>10.620000</td>\n",
       "    </tr>\n",
       "    <tr>\n",
       "      <th>max</th>\n",
       "      <td>2244.880000</td>\n",
       "      <td>2333.520000</td>\n",
       "      <td>3155.310000</td>\n",
       "      <td>6.083820e+06</td>\n",
       "      <td>226.260000</td>\n",
       "      <td>188.880000</td>\n",
       "      <td>220.950000</td>\n",
       "      <td>207.040000</td>\n",
       "      <td>28.200000</td>\n",
       "    </tr>\n",
       "  </tbody>\n",
       "</table>\n",
       "</div>"
      ],
      "text/plain": [
       "                x1           x2           x3            x4          x5  \\\n",
       "count   181.000000   180.000000   180.000000  1.810000e+02  180.000000   \n",
       "mean      6.314309     6.777722     2.463778  1.386800e+05   -0.053111   \n",
       "std     386.982400   363.353742   453.783083  8.599234e+05   35.906821   \n",
       "min   -2749.920000 -2327.200000 -2771.100000  4.800000e-01 -234.990000   \n",
       "25%     -62.680000   -61.442500   -60.385000  1.266650e+03   -6.060000   \n",
       "50%      12.210000    12.595000     1.815000  4.546800e+03   -0.760000   \n",
       "75%      75.650000    81.890000    53.740000  1.289133e+04    6.667500   \n",
       "max    2244.880000  2333.520000  3155.310000  6.083820e+06  226.260000   \n",
       "\n",
       "               x6          x7          x8           y  \n",
       "count  180.000000  180.000000  181.000000  188.000000  \n",
       "mean     1.386444   -0.243444   -0.412652    3.949309  \n",
       "std     32.370122   34.640373   31.525100    8.350511  \n",
       "min   -223.920000 -225.450000 -194.560000  -15.510000  \n",
       "25%     -4.710000   -5.907500   -7.200000   -2.260000  \n",
       "50%      2.180000   -0.295000   -0.160000    3.555000  \n",
       "75%      8.462500    6.075000    6.600000   10.620000  \n",
       "max    188.880000  220.950000  207.040000   28.200000  "
      ]
     },
     "execution_count": 109,
     "metadata": {},
     "output_type": "execute_result"
    }
   ],
   "source": [
    "df.describe()"
   ]
  },
  {
   "cell_type": "code",
   "execution_count": 110,
   "id": "a3b37513",
   "metadata": {},
   "outputs": [],
   "source": [
    "for col in df.columns:\n",
    "    percentiles = df[col].quantile([0.05, 0.95]).values\n",
    "    df[col][df[col] <= percentiles[0]] = percentiles[0]\n",
    "    df[col][df[col] >= percentiles[1]] = percentiles[1]"
   ]
  },
  {
   "cell_type": "code",
   "execution_count": 111,
   "id": "8b351140",
   "metadata": {},
   "outputs": [
    {
     "data": {
      "text/html": [
       "<div>\n",
       "<style scoped>\n",
       "    .dataframe tbody tr th:only-of-type {\n",
       "        vertical-align: middle;\n",
       "    }\n",
       "\n",
       "    .dataframe tbody tr th {\n",
       "        vertical-align: top;\n",
       "    }\n",
       "\n",
       "    .dataframe thead th {\n",
       "        text-align: right;\n",
       "    }\n",
       "</style>\n",
       "<table border=\"1\" class=\"dataframe\">\n",
       "  <thead>\n",
       "    <tr style=\"text-align: right;\">\n",
       "      <th></th>\n",
       "      <th>x3</th>\n",
       "      <th>x8</th>\n",
       "    </tr>\n",
       "  </thead>\n",
       "  <tbody>\n",
       "    <tr>\n",
       "      <th>count</th>\n",
       "      <td>180.000000</td>\n",
       "      <td>181.000000</td>\n",
       "    </tr>\n",
       "    <tr>\n",
       "      <th>mean</th>\n",
       "      <td>-3.400856</td>\n",
       "      <td>-0.581050</td>\n",
       "    </tr>\n",
       "    <tr>\n",
       "      <th>std</th>\n",
       "      <td>83.747219</td>\n",
       "      <td>9.685067</td>\n",
       "    </tr>\n",
       "    <tr>\n",
       "      <th>min</th>\n",
       "      <td>-175.146500</td>\n",
       "      <td>-18.910000</td>\n",
       "    </tr>\n",
       "    <tr>\n",
       "      <th>25%</th>\n",
       "      <td>-60.385000</td>\n",
       "      <td>-7.200000</td>\n",
       "    </tr>\n",
       "    <tr>\n",
       "      <th>50%</th>\n",
       "      <td>1.815000</td>\n",
       "      <td>-0.160000</td>\n",
       "    </tr>\n",
       "    <tr>\n",
       "      <th>75%</th>\n",
       "      <td>53.740000</td>\n",
       "      <td>6.600000</td>\n",
       "    </tr>\n",
       "    <tr>\n",
       "      <th>max</th>\n",
       "      <td>145.450500</td>\n",
       "      <td>16.270000</td>\n",
       "    </tr>\n",
       "  </tbody>\n",
       "</table>\n",
       "</div>"
      ],
      "text/plain": [
       "               x3          x8\n",
       "count  180.000000  181.000000\n",
       "mean    -3.400856   -0.581050\n",
       "std     83.747219    9.685067\n",
       "min   -175.146500  -18.910000\n",
       "25%    -60.385000   -7.200000\n",
       "50%      1.815000   -0.160000\n",
       "75%     53.740000    6.600000\n",
       "max    145.450500   16.270000"
      ]
     },
     "execution_count": 111,
     "metadata": {},
     "output_type": "execute_result"
    }
   ],
   "source": [
    "df[[\"x3\",\"x8\"]].describe(include=\"all\")"
   ]
  },
  {
   "cell_type": "code",
   "execution_count": 112,
   "id": "fd6526e2",
   "metadata": {},
   "outputs": [
    {
     "data": {
      "text/plain": [
       "<seaborn.axisgrid.PairGrid at 0x1bb18db1e50>"
      ]
     },
     "execution_count": 112,
     "metadata": {},
     "output_type": "execute_result"
    },
    {
     "data": {
      "image/png": "[encoded data removed]",
      "text/plain": [
       "<Figure size 1620x180 with 10 Axes>"
      ]
     },
     "metadata": {
      "needs_background": "light"
     },
     "output_type": "display_data"
    }
   ],
   "source": [
    "sns.pairplot(df, x_vars=df.columns, y_vars=[\"y\"])"
   ]
  },
  {
   "cell_type": "code",
   "execution_count": 113,
   "id": "ae6f6933",
   "metadata": {},
   "outputs": [
    {
     "data": {
      "text/html": [
       "<div>\n",
       "<style scoped>\n",
       "    .dataframe tbody tr th:only-of-type {\n",
       "        vertical-align: middle;\n",
       "    }\n",
       "\n",
       "    .dataframe tbody tr th {\n",
       "        vertical-align: top;\n",
       "    }\n",
       "\n",
       "    .dataframe thead th {\n",
       "        text-align: right;\n",
       "    }\n",
       "</style>\n",
       "<table border=\"1\" class=\"dataframe\">\n",
       "  <thead>\n",
       "    <tr style=\"text-align: right;\">\n",
       "      <th></th>\n",
       "      <th>y</th>\n",
       "    </tr>\n",
       "  </thead>\n",
       "  <tbody>\n",
       "    <tr>\n",
       "      <th>x8</th>\n",
       "      <td>-0.490993</td>\n",
       "    </tr>\n",
       "    <tr>\n",
       "      <th>x4</th>\n",
       "      <td>-0.085376</td>\n",
       "    </tr>\n",
       "    <tr>\n",
       "      <th>x2</th>\n",
       "      <td>-0.064025</td>\n",
       "    </tr>\n",
       "    <tr>\n",
       "      <th>x5</th>\n",
       "      <td>-0.059070</td>\n",
       "    </tr>\n",
       "    <tr>\n",
       "      <th>x7</th>\n",
       "      <td>-0.053514</td>\n",
       "    </tr>\n",
       "    <tr>\n",
       "      <th>x1</th>\n",
       "      <td>0.041003</td>\n",
       "    </tr>\n",
       "    <tr>\n",
       "      <th>x6</th>\n",
       "      <td>0.064758</td>\n",
       "    </tr>\n",
       "    <tr>\n",
       "      <th>x3</th>\n",
       "      <td>0.520713</td>\n",
       "    </tr>\n",
       "    <tr>\n",
       "      <th>y</th>\n",
       "      <td>1.000000</td>\n",
       "    </tr>\n",
       "  </tbody>\n",
       "</table>\n",
       "</div>"
      ],
      "text/plain": [
       "           y\n",
       "x8 -0.490993\n",
       "x4 -0.085376\n",
       "x2 -0.064025\n",
       "x5 -0.059070\n",
       "x7 -0.053514\n",
       "x1  0.041003\n",
       "x6  0.064758\n",
       "x3  0.520713\n",
       "y   1.000000"
      ]
     },
     "execution_count": 113,
     "metadata": {},
     "output_type": "execute_result"
    }
   ],
   "source": [
    "df.corr()\n",
    "df.corr().sort_values(\"y\")[[\"y\"]]"
   ]
  },
  {
   "cell_type": "code",
   "execution_count": 114,
   "id": "32c6cb82",
   "metadata": {},
   "outputs": [],
   "source": [
    "X = df[[\"x3\",\"x8\"]]\n",
    "y = df[\"y\"]"
   ]
  },
  {
   "cell_type": "code",
   "execution_count": 115,
   "id": "2da51e5d",
   "metadata": {},
   "outputs": [
    {
     "data": {
      "text/plain": [
       "<AxesSubplot:xlabel='y', ylabel='Count'>"
      ]
     },
     "execution_count": 115,
     "metadata": {},
     "output_type": "execute_result"
    },
    {
     "data": {
      "image/png": "[encoded data removed]",
      "text/plain": [
       "<Figure size 1620x180 with 10 Axes>"
      ]
     },
     "metadata": {
      "needs_background": "light"
     },
     "output_type": "display_data"
    }
   ],
   "source": [
    "sns.pairplot(df, x_vars=df.columns, y_vars=[\"y\"])\n",
    "X.boxplot()"
   ]
  },
  {
   "cell_type": "code",
   "execution_count": 116,
   "id": "90a33879",
   "metadata": {},
   "outputs": [],
   "source": [
    "df[\"x3\"].fillna(df[\"x3\"].median(), inplace=True)\n",
    "df[\"x8\"].fillna(df[\"x8\"].median(), inplace=True)\n",
    "df[\"y\"].fillna(df[\"y\"].median(), inplace=True)\n",
    "\n"
   ]
  },
  {
   "cell_type": "code",
   "execution_count": 117,
   "id": "d974fc7c",
   "metadata": {},
   "outputs": [
    {
     "name": "stdout",
     "output_type": "stream",
     "text": [
      "<class 'pandas.core.frame.DataFrame'>\n",
      "RangeIndex: 190 entries, 0 to 189\n",
      "Data columns (total 9 columns):\n",
      " #   Column  Non-Null Count  Dtype  \n",
      "---  ------  --------------  -----  \n",
      " 0   x1      181 non-null    float64\n",
      " 1   x2      180 non-null    float64\n",
      " 2   x3      190 non-null    float64\n",
      " 3   x4      181 non-null    float64\n",
      " 4   x5      180 non-null    float64\n",
      " 5   x6      180 non-null    float64\n",
      " 6   x7      180 non-null    float64\n",
      " 7   x8      190 non-null    float64\n",
      " 8   y       190 non-null    float64\n",
      "dtypes: float64(9)\n",
      "memory usage: 13.5 KB\n"
     ]
    }
   ],
   "source": [
    "df.info()"
   ]
  },
  {
   "cell_type": "code",
   "execution_count": 118,
   "id": "b6d63a03",
   "metadata": {},
   "outputs": [
    {
     "data": {
      "text/html": [
       "<div>\n",
       "<style scoped>\n",
       "    .dataframe tbody tr th:only-of-type {\n",
       "        vertical-align: middle;\n",
       "    }\n",
       "\n",
       "    .dataframe tbody tr th {\n",
       "        vertical-align: top;\n",
       "    }\n",
       "\n",
       "    .dataframe thead th {\n",
       "        text-align: right;\n",
       "    }\n",
       "</style>\n",
       "<table border=\"1\" class=\"dataframe\">\n",
       "  <thead>\n",
       "    <tr style=\"text-align: right;\">\n",
       "      <th></th>\n",
       "      <th>x3</th>\n",
       "      <th>x8</th>\n",
       "    </tr>\n",
       "  </thead>\n",
       "  <tbody>\n",
       "    <tr>\n",
       "      <th>count</th>\n",
       "      <td>190.000000</td>\n",
       "      <td>190.000000</td>\n",
       "    </tr>\n",
       "    <tr>\n",
       "      <th>mean</th>\n",
       "      <td>-3.126337</td>\n",
       "      <td>-0.561105</td>\n",
       "    </tr>\n",
       "    <tr>\n",
       "      <th>std</th>\n",
       "      <td>81.509942</td>\n",
       "      <td>9.452083</td>\n",
       "    </tr>\n",
       "    <tr>\n",
       "      <th>min</th>\n",
       "      <td>-175.146500</td>\n",
       "      <td>-18.910000</td>\n",
       "    </tr>\n",
       "    <tr>\n",
       "      <th>25%</th>\n",
       "      <td>-58.435000</td>\n",
       "      <td>-6.825000</td>\n",
       "    </tr>\n",
       "    <tr>\n",
       "      <th>50%</th>\n",
       "      <td>1.815000</td>\n",
       "      <td>-0.160000</td>\n",
       "    </tr>\n",
       "    <tr>\n",
       "      <th>75%</th>\n",
       "      <td>49.057500</td>\n",
       "      <td>6.355000</td>\n",
       "    </tr>\n",
       "    <tr>\n",
       "      <th>max</th>\n",
       "      <td>145.450500</td>\n",
       "      <td>16.270000</td>\n",
       "    </tr>\n",
       "  </tbody>\n",
       "</table>\n",
       "</div>"
      ],
      "text/plain": [
       "               x3          x8\n",
       "count  190.000000  190.000000\n",
       "mean    -3.126337   -0.561105\n",
       "std     81.509942    9.452083\n",
       "min   -175.146500  -18.910000\n",
       "25%    -58.435000   -6.825000\n",
       "50%      1.815000   -0.160000\n",
       "75%     49.057500    6.355000\n",
       "max    145.450500   16.270000"
      ]
     },
     "execution_count": 118,
     "metadata": {},
     "output_type": "execute_result"
    }
   ],
   "source": [
    "df[[\"x3\",\"x8\"]].describe(include=\"all\")"
   ]
  },
  {
   "cell_type": "code",
   "execution_count": 119,
   "id": "41afdc7d",
   "metadata": {},
   "outputs": [
    {
     "data": {
      "text/html": [
       "<div>\n",
       "<style scoped>\n",
       "    .dataframe tbody tr th:only-of-type {\n",
       "        vertical-align: middle;\n",
       "    }\n",
       "\n",
       "    .dataframe tbody tr th {\n",
       "        vertical-align: top;\n",
       "    }\n",
       "\n",
       "    .dataframe thead th {\n",
       "        text-align: right;\n",
       "    }\n",
       "</style>\n",
       "<table border=\"1\" class=\"dataframe\">\n",
       "  <thead>\n",
       "    <tr style=\"text-align: right;\">\n",
       "      <th></th>\n",
       "      <th>y</th>\n",
       "    </tr>\n",
       "  </thead>\n",
       "  <tbody>\n",
       "    <tr>\n",
       "      <th>x8</th>\n",
       "      <td>-0.479173</td>\n",
       "    </tr>\n",
       "    <tr>\n",
       "      <th>x4</th>\n",
       "      <td>-0.085205</td>\n",
       "    </tr>\n",
       "    <tr>\n",
       "      <th>x2</th>\n",
       "      <td>-0.064446</td>\n",
       "    </tr>\n",
       "    <tr>\n",
       "      <th>x5</th>\n",
       "      <td>-0.059026</td>\n",
       "    </tr>\n",
       "    <tr>\n",
       "      <th>x7</th>\n",
       "      <td>-0.053099</td>\n",
       "    </tr>\n",
       "    <tr>\n",
       "      <th>x1</th>\n",
       "      <td>0.040653</td>\n",
       "    </tr>\n",
       "    <tr>\n",
       "      <th>x6</th>\n",
       "      <td>0.064804</td>\n",
       "    </tr>\n",
       "    <tr>\n",
       "      <th>x3</th>\n",
       "      <td>0.506249</td>\n",
       "    </tr>\n",
       "    <tr>\n",
       "      <th>y</th>\n",
       "      <td>1.000000</td>\n",
       "    </tr>\n",
       "  </tbody>\n",
       "</table>\n",
       "</div>"
      ],
      "text/plain": [
       "           y\n",
       "x8 -0.479173\n",
       "x4 -0.085205\n",
       "x2 -0.064446\n",
       "x5 -0.059026\n",
       "x7 -0.053099\n",
       "x1  0.040653\n",
       "x6  0.064804\n",
       "x3  0.506249\n",
       "y   1.000000"
      ]
     },
     "execution_count": 119,
     "metadata": {},
     "output_type": "execute_result"
    }
   ],
   "source": [
    "df.corr()\n",
    "df.corr().sort_values(\"y\")[[\"y\"]]"
   ]
  },
  {
   "cell_type": "code",
   "execution_count": 120,
   "id": "05e83283",
   "metadata": {},
   "outputs": [],
   "source": [
    "X = df[[\"x3\",\"x8\"]]\n",
    "Y = df[\"y\"]\n",
    "\n"
   ]
  },
  {
   "cell_type": "code",
   "execution_count": 121,
   "id": "da1bb841",
   "metadata": {},
   "outputs": [],
   "source": [
    "scaler = preprocessing.StandardScaler().fit(X)\n",
    "X_scaled = scaler.transform(X)"
   ]
  },
  {
   "cell_type": "code",
   "execution_count": 122,
   "id": "04034d5c",
   "metadata": {},
   "outputs": [
    {
     "data": {
      "text/plain": [
       "LinearRegression()"
      ]
     },
     "execution_count": 122,
     "metadata": {},
     "output_type": "execute_result"
    }
   ],
   "source": [
    "lm = LinearRegression()\n",
    "lm.fit(X_scaled,Y)"
   ]
  },
  {
   "cell_type": "code",
   "execution_count": 123,
   "id": "d0fdb270",
   "metadata": {},
   "outputs": [
    {
     "name": "stdout",
     "output_type": "stream",
     "text": [
      " RMSE =  5.274827877081751\n"
     ]
    }
   ],
   "source": [
    "y_pred = lm.predict(X_scaled)\n",
    "\n",
    "  \n",
    "rmse = metrics.mean_squared_error(y, y_pred, squared=False)\n",
    "print(\" RMSE = \", rmse)"
   ]
  },
  {
   "cell_type": "code",
   "execution_count": 124,
   "id": "ba9847a7",
   "metadata": {},
   "outputs": [],
   "source": [
    "coefficient_of_dermination = r2_score(y,y_pred)"
   ]
  },
  {
   "cell_type": "code",
   "execution_count": 125,
   "id": "08f120cc",
   "metadata": {},
   "outputs": [
    {
     "data": {
      "text/plain": [
       "0.5339499455138542"
      ]
     },
     "execution_count": 125,
     "metadata": {},
     "output_type": "execute_result"
    }
   ],
   "source": [
    "coefficient_of_dermination"
   ]
  },
  {
   "cell_type": "code",
   "execution_count": 126,
   "id": "97e24def",
   "metadata": {},
   "outputs": [
    {
     "name": "stdout",
     "output_type": "stream",
     "text": [
      "LM MODEL\n",
      "\n",
      "y =\n",
      " 4.280008535029084 * x3    +\n",
      " -4.088095596005726 * x8    +\n",
      " 3.9040789473684216\n"
     ]
    }
   ],
   "source": [
    "print(\"LM MODEL\")\n",
    "print(\"\")\n",
    "print(y.name, \"=\")\n",
    "for i in range(0,len(X.columns)):\n",
    "  print(\"\", lm.coef_[i],\"*\",X.columns[i],\"   +\")\n",
    "print(\"\", lm.intercept_)"
   ]
  },
  {
   "cell_type": "code",
   "execution_count": 127,
   "id": "f46c08c0",
   "metadata": {},
   "outputs": [],
   "source": [
    "df = pd.read_csv('A-test.csv')"
   ]
  },
  {
   "cell_type": "code",
   "execution_count": 129,
   "id": "13811292",
   "metadata": {},
   "outputs": [],
   "source": [
    "df[\"x3\"].fillna(df[\"x3\"].median(), inplace=True)\n",
    "df[\"x8\"].fillna(df[\"x8\"].median(), inplace=True)"
   ]
  },
  {
   "cell_type": "code",
   "execution_count": 130,
   "id": "9fdc24a9",
   "metadata": {},
   "outputs": [
    {
     "data": {
      "text/html": [
       "<div>\n",
       "<style scoped>\n",
       "    .dataframe tbody tr th:only-of-type {\n",
       "        vertical-align: middle;\n",
       "    }\n",
       "\n",
       "    .dataframe tbody tr th {\n",
       "        vertical-align: top;\n",
       "    }\n",
       "\n",
       "    .dataframe thead th {\n",
       "        text-align: right;\n",
       "    }\n",
       "</style>\n",
       "<table border=\"1\" class=\"dataframe\">\n",
       "  <thead>\n",
       "    <tr style=\"text-align: right;\">\n",
       "      <th></th>\n",
       "      <th>x1</th>\n",
       "      <th>x2</th>\n",
       "      <th>x3</th>\n",
       "      <th>x4</th>\n",
       "      <th>x5</th>\n",
       "      <th>x6</th>\n",
       "      <th>x7</th>\n",
       "      <th>x8</th>\n",
       "      <th>y</th>\n",
       "    </tr>\n",
       "  </thead>\n",
       "  <tbody>\n",
       "    <tr>\n",
       "      <th>0</th>\n",
       "      <td>65.16</td>\n",
       "      <td>4.49</td>\n",
       "      <td>-105.75</td>\n",
       "      <td>600.25</td>\n",
       "      <td>-0.91</td>\n",
       "      <td>NaN</td>\n",
       "      <td>-1.36</td>\n",
       "      <td>-7.43</td>\n",
       "      <td>A_01</td>\n",
       "    </tr>\n",
       "    <tr>\n",
       "      <th>1</th>\n",
       "      <td>-24.74</td>\n",
       "      <td>-1.55</td>\n",
       "      <td>91.05</td>\n",
       "      <td>2401.98</td>\n",
       "      <td>-1.52</td>\n",
       "      <td>13.60</td>\n",
       "      <td>5.66</td>\n",
       "      <td>10.59</td>\n",
       "      <td>A_02</td>\n",
       "    </tr>\n",
       "    <tr>\n",
       "      <th>2</th>\n",
       "      <td>107.54</td>\n",
       "      <td>-28.69</td>\n",
       "      <td>-82.59</td>\n",
       "      <td>25789.15</td>\n",
       "      <td>5.29</td>\n",
       "      <td>-8.56</td>\n",
       "      <td>1.49</td>\n",
       "      <td>-4.73</td>\n",
       "      <td>A_03</td>\n",
       "    </tr>\n",
       "    <tr>\n",
       "      <th>3</th>\n",
       "      <td>12.02</td>\n",
       "      <td>32.32</td>\n",
       "      <td>-16.47</td>\n",
       "      <td>2.76</td>\n",
       "      <td>1.20</td>\n",
       "      <td>-9.52</td>\n",
       "      <td>-4.20</td>\n",
       "      <td>7.48</td>\n",
       "      <td>A_04</td>\n",
       "    </tr>\n",
       "    <tr>\n",
       "      <th>4</th>\n",
       "      <td>45.08</td>\n",
       "      <td>96.62</td>\n",
       "      <td>51.85</td>\n",
       "      <td>1.28</td>\n",
       "      <td>3.58</td>\n",
       "      <td>0.52</td>\n",
       "      <td>-6.86</td>\n",
       "      <td>-0.78</td>\n",
       "      <td>A_05</td>\n",
       "    </tr>\n",
       "    <tr>\n",
       "      <th>5</th>\n",
       "      <td>-122.81</td>\n",
       "      <td>17.79</td>\n",
       "      <td>-182.85</td>\n",
       "      <td>2928.97</td>\n",
       "      <td>-1.21</td>\n",
       "      <td>-2.06</td>\n",
       "      <td>9.68</td>\n",
       "      <td>-8.59</td>\n",
       "      <td>A_06</td>\n",
       "    </tr>\n",
       "    <tr>\n",
       "      <th>6</th>\n",
       "      <td>77.61</td>\n",
       "      <td>-72.30</td>\n",
       "      <td>97.28</td>\n",
       "      <td>19173.94</td>\n",
       "      <td>-9.29</td>\n",
       "      <td>0.86</td>\n",
       "      <td>7.06</td>\n",
       "      <td>-8.06</td>\n",
       "      <td>A_07</td>\n",
       "    </tr>\n",
       "    <tr>\n",
       "      <th>7</th>\n",
       "      <td>-79.36</td>\n",
       "      <td>NaN</td>\n",
       "      <td>-220.91</td>\n",
       "      <td>NaN</td>\n",
       "      <td>7.24</td>\n",
       "      <td>6.19</td>\n",
       "      <td>NaN</td>\n",
       "      <td>9.71</td>\n",
       "      <td>A_08</td>\n",
       "    </tr>\n",
       "    <tr>\n",
       "      <th>8</th>\n",
       "      <td>NaN</td>\n",
       "      <td>188.39</td>\n",
       "      <td>-16.47</td>\n",
       "      <td>3976.56</td>\n",
       "      <td>NaN</td>\n",
       "      <td>-1.04</td>\n",
       "      <td>-23.44</td>\n",
       "      <td>-0.83</td>\n",
       "      <td>A_09</td>\n",
       "    </tr>\n",
       "    <tr>\n",
       "      <th>9</th>\n",
       "      <td>-44.01</td>\n",
       "      <td>131.65</td>\n",
       "      <td>69.88</td>\n",
       "      <td>1778.31</td>\n",
       "      <td>-13.75</td>\n",
       "      <td>-14.75</td>\n",
       "      <td>-12.27</td>\n",
       "      <td>-0.83</td>\n",
       "      <td>A_10</td>\n",
       "    </tr>\n",
       "  </tbody>\n",
       "</table>\n",
       "</div>"
      ],
      "text/plain": [
       "       x1      x2      x3        x4     x5     x6     x7     x8     y\n",
       "0   65.16    4.49 -105.75    600.25  -0.91    NaN  -1.36  -7.43  A_01\n",
       "1  -24.74   -1.55   91.05   2401.98  -1.52  13.60   5.66  10.59  A_02\n",
       "2  107.54  -28.69  -82.59  25789.15   5.29  -8.56   1.49  -4.73  A_03\n",
       "3   12.02   32.32  -16.47      2.76   1.20  -9.52  -4.20   7.48  A_04\n",
       "4   45.08   96.62   51.85      1.28   3.58   0.52  -6.86  -0.78  A_05\n",
       "5 -122.81   17.79 -182.85   2928.97  -1.21  -2.06   9.68  -8.59  A_06\n",
       "6   77.61  -72.30   97.28  19173.94  -9.29   0.86   7.06  -8.06  A_07\n",
       "7  -79.36     NaN -220.91       NaN   7.24   6.19    NaN   9.71  A_08\n",
       "8     NaN  188.39  -16.47   3976.56    NaN  -1.04 -23.44  -0.83  A_09\n",
       "9  -44.01  131.65   69.88   1778.31 -13.75 -14.75 -12.27  -0.83  A_10"
      ]
     },
     "execution_count": 130,
     "metadata": {},
     "output_type": "execute_result"
    }
   ],
   "source": [
    "df"
   ]
  },
  {
   "cell_type": "code",
   "execution_count": 131,
   "id": "550e012f",
   "metadata": {},
   "outputs": [],
   "source": [
    "X = df[[\"x3\",\"x8\"]]"
   ]
  },
  {
   "cell_type": "code",
   "execution_count": 132,
   "id": "291dd113",
   "metadata": {},
   "outputs": [],
   "source": [
    "y_pred = lm.predict(X)"
   ]
  },
  {
   "cell_type": "code",
   "execution_count": 134,
   "id": "677c2121",
   "metadata": {},
   "outputs": [
    {
     "name": "stdout",
     "output_type": "stream",
     "text": [
      "-418.33227335363466\n",
      "350.3059237000658\n",
      "-330.2451337915765\n",
      "-97.16661668268341\n",
      "229.01123605351088\n",
      "-743.5787405130103\n",
      "453.21335973880383\n",
      "-981.288014763122\n",
      "-63.19454227987583\n",
      "306.3841947198855\n"
     ]
    }
   ],
   "source": [
    "for i in y_pred:\n",
    "        print(i)"
   ]
  }
 ],
 "metadata": {
  "kernelspec": {
   "display_name": "Python 3.9.5 64-bit",
   "language": "python",
   "name": "python3"
  },
  "language_info": {
   "codemirror_mode": {
    "name": "ipython",
    "version": 3
   },
   "file_extension": ".py",
   "mimetype": "text/x-python",
   "name": "python",
   "nbconvert_exporter": "python",
   "pygments_lexer": "ipython3",
   "version": "3.9.5"
  },
  "vscode": {
   "interpreter": {
    "hash": "a698f83edc2ebfec47c40425dc9a7ec3b7c4472134519737919feddf9343d744"
   }
  }
 },
 "nbformat": 4,
 "nbformat_minor": 5
}
