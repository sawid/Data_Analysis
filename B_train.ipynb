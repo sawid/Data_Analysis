{
 "cells": [
  {
   "cell_type": "code",
   "execution_count": 25,
   "id": "aa49fe4a",
   "metadata": {},
   "outputs": [],
   "source": [
    "import numpy as np\n",
    "import pandas as pd\n",
    "from sklearn.linear_model import LinearRegression\n",
    "import seaborn as sns\n",
    "from sklearn import preprocessing\n",
    "from sklearn import metrics\n",
    "from sklearn.metrics import r2_score"
   ]
  },
  {
   "cell_type": "code",
   "execution_count": 26,
   "id": "dbcfc914",
   "metadata": {},
   "outputs": [],
   "source": [
    "df = pd.read_csv('B-train.csv')\n"
   ]
  },
  {
   "cell_type": "code",
   "execution_count": 27,
   "id": "b240ab52",
   "metadata": {},
   "outputs": [
    {
     "name": "stdout",
     "output_type": "stream",
     "text": [
      "<class 'pandas.core.frame.DataFrame'>\n",
      "RangeIndex: 190 entries, 0 to 189\n",
      "Data columns (total 9 columns):\n",
      " #   Column  Non-Null Count  Dtype  \n",
      "---  ------  --------------  -----  \n",
      " 0   x1      180 non-null    float64\n",
      " 1   x2      180 non-null    float64\n",
      " 2   x3      181 non-null    float64\n",
      " 3   x4      180 non-null    float64\n",
      " 4   x5      181 non-null    float64\n",
      " 5   x6      180 non-null    float64\n",
      " 6   x7      180 non-null    float64\n",
      " 7   x8      180 non-null    float64\n",
      " 8   y       188 non-null    float64\n",
      "dtypes: float64(9)\n",
      "memory usage: 13.5 KB\n"
     ]
    }
   ],
   "source": [
    "df.info()"
   ]
  },
  {
   "cell_type": "code",
   "execution_count": 28,
   "id": "d304d038",
   "metadata": {},
   "outputs": [
    {
     "data": {
      "text/html": [
       "<div>\n",
       "<style scoped>\n",
       "    .dataframe tbody tr th:only-of-type {\n",
       "        vertical-align: middle;\n",
       "    }\n",
       "\n",
       "    .dataframe tbody tr th {\n",
       "        vertical-align: top;\n",
       "    }\n",
       "\n",
       "    .dataframe thead th {\n",
       "        text-align: right;\n",
       "    }\n",
       "</style>\n",
       "<table border=\"1\" class=\"dataframe\">\n",
       "  <thead>\n",
       "    <tr style=\"text-align: right;\">\n",
       "      <th></th>\n",
       "      <th>x1</th>\n",
       "      <th>x2</th>\n",
       "      <th>x3</th>\n",
       "      <th>x4</th>\n",
       "      <th>x5</th>\n",
       "      <th>x6</th>\n",
       "      <th>x7</th>\n",
       "      <th>x8</th>\n",
       "      <th>y</th>\n",
       "    </tr>\n",
       "  </thead>\n",
       "  <tbody>\n",
       "    <tr>\n",
       "      <th>count</th>\n",
       "      <td>180.000000</td>\n",
       "      <td>180.000000</td>\n",
       "      <td>181.000000</td>\n",
       "      <td>180.000000</td>\n",
       "      <td>181.000000</td>\n",
       "      <td>180.000000</td>\n",
       "      <td>180.000000</td>\n",
       "      <td>1.800000e+02</td>\n",
       "      <td>188.000000</td>\n",
       "    </tr>\n",
       "    <tr>\n",
       "      <th>mean</th>\n",
       "      <td>14.175056</td>\n",
       "      <td>-12.012278</td>\n",
       "      <td>-2.560663</td>\n",
       "      <td>-0.299167</td>\n",
       "      <td>-0.412044</td>\n",
       "      <td>-0.336167</td>\n",
       "      <td>16.658889</td>\n",
       "      <td>1.547451e+05</td>\n",
       "      <td>2.933298</td>\n",
       "    </tr>\n",
       "    <tr>\n",
       "      <th>std</th>\n",
       "      <td>359.088122</td>\n",
       "      <td>334.603527</td>\n",
       "      <td>34.802232</td>\n",
       "      <td>33.528208</td>\n",
       "      <td>33.117881</td>\n",
       "      <td>39.515732</td>\n",
       "      <td>372.753379</td>\n",
       "      <td>9.678893e+05</td>\n",
       "      <td>9.200321</td>\n",
       "    </tr>\n",
       "    <tr>\n",
       "      <th>min</th>\n",
       "      <td>-2637.520000</td>\n",
       "      <td>-2049.360000</td>\n",
       "      <td>-250.110000</td>\n",
       "      <td>-233.640000</td>\n",
       "      <td>-216.320000</td>\n",
       "      <td>-282.960000</td>\n",
       "      <td>-1987.360000</td>\n",
       "      <td>4.800000e-01</td>\n",
       "      <td>-19.830000</td>\n",
       "    </tr>\n",
       "    <tr>\n",
       "      <th>25%</th>\n",
       "      <td>-67.172500</td>\n",
       "      <td>-93.727500</td>\n",
       "      <td>-9.560000</td>\n",
       "      <td>-6.675000</td>\n",
       "      <td>-8.350000</td>\n",
       "      <td>-7.717500</td>\n",
       "      <td>-72.022500</td>\n",
       "      <td>1.326297e+03</td>\n",
       "      <td>-2.935000</td>\n",
       "    </tr>\n",
       "    <tr>\n",
       "      <th>50%</th>\n",
       "      <td>-1.655000</td>\n",
       "      <td>-7.895000</td>\n",
       "      <td>-2.670000</td>\n",
       "      <td>0.440000</td>\n",
       "      <td>-0.090000</td>\n",
       "      <td>0.640000</td>\n",
       "      <td>14.715000</td>\n",
       "      <td>4.897925e+03</td>\n",
       "      <td>2.980000</td>\n",
       "    </tr>\n",
       "    <tr>\n",
       "      <th>75%</th>\n",
       "      <td>64.937500</td>\n",
       "      <td>50.365000</td>\n",
       "      <td>6.300000</td>\n",
       "      <td>7.390000</td>\n",
       "      <td>8.130000</td>\n",
       "      <td>7.385000</td>\n",
       "      <td>73.755000</td>\n",
       "      <td>1.438690e+04</td>\n",
       "      <td>8.572500</td>\n",
       "    </tr>\n",
       "    <tr>\n",
       "      <th>max</th>\n",
       "      <td>2661.480000</td>\n",
       "      <td>2217.600000</td>\n",
       "      <td>192.870000</td>\n",
       "      <td>194.240000</td>\n",
       "      <td>205.920000</td>\n",
       "      <td>224.400000</td>\n",
       "      <td>2772.630000</td>\n",
       "      <td>7.503436e+06</td>\n",
       "      <td>30.600000</td>\n",
       "    </tr>\n",
       "  </tbody>\n",
       "</table>\n",
       "</div>"
      ],
      "text/plain": [
       "                x1           x2          x3          x4          x5  \\\n",
       "count   180.000000   180.000000  181.000000  180.000000  181.000000   \n",
       "mean     14.175056   -12.012278   -2.560663   -0.299167   -0.412044   \n",
       "std     359.088122   334.603527   34.802232   33.528208   33.117881   \n",
       "min   -2637.520000 -2049.360000 -250.110000 -233.640000 -216.320000   \n",
       "25%     -67.172500   -93.727500   -9.560000   -6.675000   -8.350000   \n",
       "50%      -1.655000    -7.895000   -2.670000    0.440000   -0.090000   \n",
       "75%      64.937500    50.365000    6.300000    7.390000    8.130000   \n",
       "max    2661.480000  2217.600000  192.870000  194.240000  205.920000   \n",
       "\n",
       "               x6           x7            x8           y  \n",
       "count  180.000000   180.000000  1.800000e+02  188.000000  \n",
       "mean    -0.336167    16.658889  1.547451e+05    2.933298  \n",
       "std     39.515732   372.753379  9.678893e+05    9.200321  \n",
       "min   -282.960000 -1987.360000  4.800000e-01  -19.830000  \n",
       "25%     -7.717500   -72.022500  1.326297e+03   -2.935000  \n",
       "50%      0.640000    14.715000  4.897925e+03    2.980000  \n",
       "75%      7.385000    73.755000  1.438690e+04    8.572500  \n",
       "max    224.400000  2772.630000  7.503436e+06   30.600000  "
      ]
     },
     "execution_count": 28,
     "metadata": {},
     "output_type": "execute_result"
    }
   ],
   "source": [
    "df.describe()"
   ]
  },
  {
   "cell_type": "code",
   "execution_count": 29,
   "id": "a3b37513",
   "metadata": {},
   "outputs": [],
   "source": [
    "for col in df.columns:\n",
    "    percentiles = df[col].quantile([0.05, 0.95]).values\n",
    "    df[col][df[col] <= percentiles[0]] = percentiles[0]\n",
    "    df[col][df[col] >= percentiles[1]] = percentiles[1]"
   ]
  },
  {
   "cell_type": "code",
   "execution_count": 30,
   "id": "8b351140",
   "metadata": {},
   "outputs": [
    {
     "data": {
      "text/html": [
       "<div>\n",
       "<style scoped>\n",
       "    .dataframe tbody tr th:only-of-type {\n",
       "        vertical-align: middle;\n",
       "    }\n",
       "\n",
       "    .dataframe tbody tr th {\n",
       "        vertical-align: top;\n",
       "    }\n",
       "\n",
       "    .dataframe thead th {\n",
       "        text-align: right;\n",
       "    }\n",
       "</style>\n",
       "<table border=\"1\" class=\"dataframe\">\n",
       "  <thead>\n",
       "    <tr style=\"text-align: right;\">\n",
       "      <th></th>\n",
       "      <th>x2</th>\n",
       "      <th>x1</th>\n",
       "    </tr>\n",
       "  </thead>\n",
       "  <tbody>\n",
       "    <tr>\n",
       "      <th>count</th>\n",
       "      <td>180.000000</td>\n",
       "      <td>180.000000</td>\n",
       "    </tr>\n",
       "    <tr>\n",
       "      <th>mean</th>\n",
       "      <td>-14.002856</td>\n",
       "      <td>-0.042133</td>\n",
       "    </tr>\n",
       "    <tr>\n",
       "      <th>std</th>\n",
       "      <td>98.069081</td>\n",
       "      <td>100.881155</td>\n",
       "    </tr>\n",
       "    <tr>\n",
       "      <th>min</th>\n",
       "      <td>-184.170000</td>\n",
       "      <td>-192.792500</td>\n",
       "    </tr>\n",
       "    <tr>\n",
       "      <th>25%</th>\n",
       "      <td>-93.727500</td>\n",
       "      <td>-67.172500</td>\n",
       "    </tr>\n",
       "    <tr>\n",
       "      <th>50%</th>\n",
       "      <td>-7.895000</td>\n",
       "      <td>-1.655000</td>\n",
       "    </tr>\n",
       "    <tr>\n",
       "      <th>75%</th>\n",
       "      <td>50.365000</td>\n",
       "      <td>64.937500</td>\n",
       "    </tr>\n",
       "    <tr>\n",
       "      <th>max</th>\n",
       "      <td>163.954000</td>\n",
       "      <td>186.966500</td>\n",
       "    </tr>\n",
       "  </tbody>\n",
       "</table>\n",
       "</div>"
      ],
      "text/plain": [
       "               x2          x1\n",
       "count  180.000000  180.000000\n",
       "mean   -14.002856   -0.042133\n",
       "std     98.069081  100.881155\n",
       "min   -184.170000 -192.792500\n",
       "25%    -93.727500  -67.172500\n",
       "50%     -7.895000   -1.655000\n",
       "75%     50.365000   64.937500\n",
       "max    163.954000  186.966500"
      ]
     },
     "execution_count": 30,
     "metadata": {},
     "output_type": "execute_result"
    }
   ],
   "source": [
    "df[[\"x2\",\"x1\"]].describe(include=\"all\")"
   ]
  },
  {
   "cell_type": "code",
   "execution_count": 31,
   "id": "fd6526e2",
   "metadata": {},
   "outputs": [
    {
     "data": {
      "text/plain": [
       "<seaborn.axisgrid.PairGrid at 0x231484917c0>"
      ]
     },
     "execution_count": 31,
     "metadata": {},
     "output_type": "execute_result"
    },
    {
     "data": {
      "image/png": "[encoded data removed]",
      "text/plain": [
       "<Figure size 1620x180 with 10 Axes>"
      ]
     },
     "metadata": {
      "needs_background": "light"
     },
     "output_type": "display_data"
    }
   ],
   "source": [
    "sns.pairplot(df, x_vars=df.columns, y_vars=[\"y\"])"
   ]
  },
  {
   "cell_type": "code",
   "execution_count": null,
   "id": "b2d4f2cd",
   "metadata": {},
   "outputs": [],
   "source": []
  },
  {
   "cell_type": "code",
   "execution_count": null,
   "id": "2f66dcb5",
   "metadata": {},
   "outputs": [],
   "source": []
  },
  {
   "cell_type": "code",
   "execution_count": 32,
   "id": "ae6f6933",
   "metadata": {},
   "outputs": [
    {
     "data": {
      "text/html": [
       "<div>\n",
       "<style scoped>\n",
       "    .dataframe tbody tr th:only-of-type {\n",
       "        vertical-align: middle;\n",
       "    }\n",
       "\n",
       "    .dataframe tbody tr th {\n",
       "        vertical-align: top;\n",
       "    }\n",
       "\n",
       "    .dataframe thead th {\n",
       "        text-align: right;\n",
       "    }\n",
       "</style>\n",
       "<table border=\"1\" class=\"dataframe\">\n",
       "  <thead>\n",
       "    <tr style=\"text-align: right;\">\n",
       "      <th></th>\n",
       "      <th>y</th>\n",
       "    </tr>\n",
       "  </thead>\n",
       "  <tbody>\n",
       "    <tr>\n",
       "      <th>x1</th>\n",
       "      <td>-0.643639</td>\n",
       "    </tr>\n",
       "    <tr>\n",
       "      <th>x8</th>\n",
       "      <td>-0.068276</td>\n",
       "    </tr>\n",
       "    <tr>\n",
       "      <th>x3</th>\n",
       "      <td>-0.008979</td>\n",
       "    </tr>\n",
       "    <tr>\n",
       "      <th>x4</th>\n",
       "      <td>0.041342</td>\n",
       "    </tr>\n",
       "    <tr>\n",
       "      <th>x7</th>\n",
       "      <td>0.044584</td>\n",
       "    </tr>\n",
       "    <tr>\n",
       "      <th>x6</th>\n",
       "      <td>0.049326</td>\n",
       "    </tr>\n",
       "    <tr>\n",
       "      <th>x5</th>\n",
       "      <td>0.089609</td>\n",
       "    </tr>\n",
       "    <tr>\n",
       "      <th>x2</th>\n",
       "      <td>0.670127</td>\n",
       "    </tr>\n",
       "    <tr>\n",
       "      <th>y</th>\n",
       "      <td>1.000000</td>\n",
       "    </tr>\n",
       "  </tbody>\n",
       "</table>\n",
       "</div>"
      ],
      "text/plain": [
       "           y\n",
       "x1 -0.643639\n",
       "x8 -0.068276\n",
       "x3 -0.008979\n",
       "x4  0.041342\n",
       "x7  0.044584\n",
       "x6  0.049326\n",
       "x5  0.089609\n",
       "x2  0.670127\n",
       "y   1.000000"
      ]
     },
     "execution_count": 32,
     "metadata": {},
     "output_type": "execute_result"
    }
   ],
   "source": [
    "df.corr()\n",
    "df.corr().sort_values(\"y\")[[\"y\"]]"
   ]
  },
  {
   "cell_type": "code",
   "execution_count": 33,
   "id": "32c6cb82",
   "metadata": {},
   "outputs": [],
   "source": [
    "X = df[[\"x2\",\"x1\"]]\n",
    "y = df[\"y\"]"
   ]
  },
  {
   "cell_type": "code",
   "execution_count": 34,
   "id": "2da51e5d",
   "metadata": {},
   "outputs": [
    {
     "data": {
      "text/plain": [
       "<AxesSubplot:xlabel='y', ylabel='Count'>"
      ]
     },
     "execution_count": 34,
     "metadata": {},
     "output_type": "execute_result"
    },
    {
     "data": {
      "image/png": "[encoded data removed]",
      "text/plain": [
       "<Figure size 1620x180 with 10 Axes>"
      ]
     },
     "metadata": {
      "needs_background": "light"
     },
     "output_type": "display_data"
    }
   ],
   "source": [
    "sns.pairplot(df, x_vars=df.columns, y_vars=[\"y\"])\n",
    "X.boxplot()"
   ]
  },
  {
   "cell_type": "code",
   "execution_count": null,
   "id": "d8474d4b",
   "metadata": {},
   "outputs": [],
   "source": []
  },
  {
   "cell_type": "code",
   "execution_count": 35,
   "id": "90a33879",
   "metadata": {},
   "outputs": [],
   "source": [
    "df[\"x2\"].fillna(0, inplace=True)\n",
    "df[\"x1\"].fillna(0, inplace=True)\n",
    "df[\"y\"].fillna(0, inplace=True)\n",
    "\n"
   ]
  },
  {
   "cell_type": "code",
   "execution_count": 36,
   "id": "d974fc7c",
   "metadata": {},
   "outputs": [
    {
     "name": "stdout",
     "output_type": "stream",
     "text": [
      "<class 'pandas.core.frame.DataFrame'>\n",
      "RangeIndex: 190 entries, 0 to 189\n",
      "Data columns (total 9 columns):\n",
      " #   Column  Non-Null Count  Dtype  \n",
      "---  ------  --------------  -----  \n",
      " 0   x1      190 non-null    float64\n",
      " 1   x2      190 non-null    float64\n",
      " 2   x3      181 non-null    float64\n",
      " 3   x4      180 non-null    float64\n",
      " 4   x5      181 non-null    float64\n",
      " 5   x6      180 non-null    float64\n",
      " 6   x7      180 non-null    float64\n",
      " 7   x8      180 non-null    float64\n",
      " 8   y       190 non-null    float64\n",
      "dtypes: float64(9)\n",
      "memory usage: 13.5 KB\n"
     ]
    }
   ],
   "source": [
    "df.info()"
   ]
  },
  {
   "cell_type": "code",
   "execution_count": 37,
   "id": "b6d63a03",
   "metadata": {},
   "outputs": [
    {
     "data": {
      "text/html": [
       "<div>\n",
       "<style scoped>\n",
       "    .dataframe tbody tr th:only-of-type {\n",
       "        vertical-align: middle;\n",
       "    }\n",
       "\n",
       "    .dataframe tbody tr th {\n",
       "        vertical-align: top;\n",
       "    }\n",
       "\n",
       "    .dataframe thead th {\n",
       "        text-align: right;\n",
       "    }\n",
       "</style>\n",
       "<table border=\"1\" class=\"dataframe\">\n",
       "  <thead>\n",
       "    <tr style=\"text-align: right;\">\n",
       "      <th></th>\n",
       "      <th>x2</th>\n",
       "      <th>x1</th>\n",
       "    </tr>\n",
       "  </thead>\n",
       "  <tbody>\n",
       "    <tr>\n",
       "      <th>count</th>\n",
       "      <td>190.000000</td>\n",
       "      <td>190.000000</td>\n",
       "    </tr>\n",
       "    <tr>\n",
       "      <th>mean</th>\n",
       "      <td>-13.265863</td>\n",
       "      <td>-0.039916</td>\n",
       "    </tr>\n",
       "    <tr>\n",
       "      <th>std</th>\n",
       "      <td>95.490881</td>\n",
       "      <td>98.176074</td>\n",
       "    </tr>\n",
       "    <tr>\n",
       "      <th>min</th>\n",
       "      <td>-184.170000</td>\n",
       "      <td>-192.792500</td>\n",
       "    </tr>\n",
       "    <tr>\n",
       "      <th>25%</th>\n",
       "      <td>-89.797500</td>\n",
       "      <td>-66.297500</td>\n",
       "    </tr>\n",
       "    <tr>\n",
       "      <th>50%</th>\n",
       "      <td>-4.155000</td>\n",
       "      <td>0.000000</td>\n",
       "    </tr>\n",
       "    <tr>\n",
       "      <th>75%</th>\n",
       "      <td>48.487500</td>\n",
       "      <td>58.827500</td>\n",
       "    </tr>\n",
       "    <tr>\n",
       "      <th>max</th>\n",
       "      <td>163.954000</td>\n",
       "      <td>186.966500</td>\n",
       "    </tr>\n",
       "  </tbody>\n",
       "</table>\n",
       "</div>"
      ],
      "text/plain": [
       "               x2          x1\n",
       "count  190.000000  190.000000\n",
       "mean   -13.265863   -0.039916\n",
       "std     95.490881   98.176074\n",
       "min   -184.170000 -192.792500\n",
       "25%    -89.797500  -66.297500\n",
       "50%     -4.155000    0.000000\n",
       "75%     48.487500   58.827500\n",
       "max    163.954000  186.966500"
      ]
     },
     "execution_count": 37,
     "metadata": {},
     "output_type": "execute_result"
    }
   ],
   "source": [
    "df[[\"x2\",\"x1\"]].describe(include=\"all\")"
   ]
  },
  {
   "cell_type": "code",
   "execution_count": 38,
   "id": "41afdc7d",
   "metadata": {},
   "outputs": [
    {
     "data": {
      "text/html": [
       "<div>\n",
       "<style scoped>\n",
       "    .dataframe tbody tr th:only-of-type {\n",
       "        vertical-align: middle;\n",
       "    }\n",
       "\n",
       "    .dataframe tbody tr th {\n",
       "        vertical-align: top;\n",
       "    }\n",
       "\n",
       "    .dataframe thead th {\n",
       "        text-align: right;\n",
       "    }\n",
       "</style>\n",
       "<table border=\"1\" class=\"dataframe\">\n",
       "  <thead>\n",
       "    <tr style=\"text-align: right;\">\n",
       "      <th></th>\n",
       "      <th>y</th>\n",
       "    </tr>\n",
       "  </thead>\n",
       "  <tbody>\n",
       "    <tr>\n",
       "      <th>x1</th>\n",
       "      <td>-0.610436</td>\n",
       "    </tr>\n",
       "    <tr>\n",
       "      <th>x8</th>\n",
       "      <td>-0.065858</td>\n",
       "    </tr>\n",
       "    <tr>\n",
       "      <th>x3</th>\n",
       "      <td>-0.005160</td>\n",
       "    </tr>\n",
       "    <tr>\n",
       "      <th>x7</th>\n",
       "      <td>0.042305</td>\n",
       "    </tr>\n",
       "    <tr>\n",
       "      <th>x4</th>\n",
       "      <td>0.044294</td>\n",
       "    </tr>\n",
       "    <tr>\n",
       "      <th>x6</th>\n",
       "      <td>0.045284</td>\n",
       "    </tr>\n",
       "    <tr>\n",
       "      <th>x5</th>\n",
       "      <td>0.091870</td>\n",
       "    </tr>\n",
       "    <tr>\n",
       "      <th>x2</th>\n",
       "      <td>0.644227</td>\n",
       "    </tr>\n",
       "    <tr>\n",
       "      <th>y</th>\n",
       "      <td>1.000000</td>\n",
       "    </tr>\n",
       "  </tbody>\n",
       "</table>\n",
       "</div>"
      ],
      "text/plain": [
       "           y\n",
       "x1 -0.610436\n",
       "x8 -0.065858\n",
       "x3 -0.005160\n",
       "x7  0.042305\n",
       "x4  0.044294\n",
       "x6  0.045284\n",
       "x5  0.091870\n",
       "x2  0.644227\n",
       "y   1.000000"
      ]
     },
     "execution_count": 38,
     "metadata": {},
     "output_type": "execute_result"
    }
   ],
   "source": [
    "df.corr()\n",
    "df.corr().sort_values(\"y\")[[\"y\"]]"
   ]
  },
  {
   "cell_type": "code",
   "execution_count": 39,
   "id": "05e83283",
   "metadata": {},
   "outputs": [],
   "source": [
    "X = df[[\"x2\",\"x1\"]]\n",
    "Y = df[\"y\"]\n",
    "\n"
   ]
  },
  {
   "cell_type": "code",
   "execution_count": 40,
   "id": "da1bb841",
   "metadata": {},
   "outputs": [],
   "source": [
    "scaler = preprocessing.StandardScaler().fit(X)\n",
    "X_scaled = scaler.transform(X)"
   ]
  },
  {
   "cell_type": "code",
   "execution_count": 41,
   "id": "04034d5c",
   "metadata": {},
   "outputs": [
    {
     "data": {
      "text/plain": [
       "LinearRegression()"
      ]
     },
     "execution_count": 41,
     "metadata": {},
     "output_type": "execute_result"
    }
   ],
   "source": [
    "lm = LinearRegression()\n",
    "lm.fit(X_scaled,Y)"
   ]
  },
  {
   "cell_type": "code",
   "execution_count": 42,
   "id": "d0fdb270",
   "metadata": {},
   "outputs": [
    {
     "name": "stdout",
     "output_type": "stream",
     "text": [
      " RMSE =  4.672571927640377\n"
     ]
    }
   ],
   "source": [
    "y_pred = lm.predict(X_scaled)\n",
    "\n",
    "  \n",
    "rmse = metrics.mean_squared_error(y, y_pred, squared=False)\n",
    "print(\" RMSE = \", rmse)"
   ]
  },
  {
   "cell_type": "code",
   "execution_count": 43,
   "id": "ba9847a7",
   "metadata": {},
   "outputs": [],
   "source": [
    "coefficient_of_dermination = r2_score(y,y_pred)"
   ]
  },
  {
   "cell_type": "code",
   "execution_count": 44,
   "id": "08f120cc",
   "metadata": {},
   "outputs": [
    {
     "data": {
      "text/plain": [
       "0.6963709564109649"
      ]
     },
     "execution_count": 44,
     "metadata": {},
     "output_type": "execute_result"
    }
   ],
   "source": [
    "coefficient_of_dermination"
   ]
  },
  {
   "cell_type": "code",
   "execution_count": 45,
   "id": "97e24def",
   "metadata": {},
   "outputs": [
    {
     "name": "stdout",
     "output_type": "stream",
     "text": [
      "LM MODEL\n",
      "\n",
      "y =\n",
      " 4.866985691067726 * x2    +\n",
      " -4.5371208349771806 * x1    +\n",
      " 2.798605263157894\n"
     ]
    }
   ],
   "source": [
    "print(\"LM MODEL\")\n",
    "print(\"\")\n",
    "print(y.name, \"=\")\n",
    "for i in range(0,len(X.columns)):\n",
    "  print(\"\", lm.coef_[i],\"*\",X.columns[i],\"   +\")\n",
    "print(\"\", lm.intercept_)"
   ]
  },
  {
   "cell_type": "code",
   "execution_count": 46,
   "id": "4443b1d3",
   "metadata": {},
   "outputs": [],
   "source": [
    "df = pd.read_csv('B-test.csv')"
   ]
  },
  {
   "cell_type": "code",
   "execution_count": 47,
   "id": "15dec399",
   "metadata": {},
   "outputs": [],
   "source": [
    "df[\"x2\"].fillna(df[\"x2\"].median(), inplace=True)\n",
    "df[\"x1\"].fillna(df[\"x1\"].median(), inplace=True)"
   ]
  },
  {
   "cell_type": "code",
   "execution_count": 48,
   "id": "9dd9cc1d",
   "metadata": {},
   "outputs": [],
   "source": [
    "X = df[[\"x2\",\"x1\"]]"
   ]
  },
  {
   "cell_type": "code",
   "execution_count": 49,
   "id": "ad0c0661",
   "metadata": {},
   "outputs": [],
   "source": [
    "y_pred = lm.predict(X)"
   ]
  },
  {
   "cell_type": "code",
   "execution_count": 52,
   "id": "386414fd",
   "metadata": {},
   "outputs": [
    {
     "name": "stdout",
     "output_type": "stream",
     "text": [
      "-813.6598256354963\n",
      "-96.83552830546424\n",
      "0.09901706422880174\n",
      "-717.138294982345\n",
      "-342.65102923563336\n",
      "-488.5950161758816\n",
      "-726.3401479286858\n",
      "-127.15470620059531\n",
      "-620.3544763873753\n",
      "-1044.4876703476596\n"
     ]
    }
   ],
   "source": [
    "for i in y_pred:\n",
    "        print(i)"
   ]
  }
 ],
 "metadata": {
  "kernelspec": {
   "display_name": "Python 3.9.5 64-bit",
   "language": "python",
   "name": "python3"
  },
  "language_info": {
   "codemirror_mode": {
    "name": "ipython",
    "version": 3
   },
   "file_extension": ".py",
   "mimetype": "text/x-python",
   "name": "python",
   "nbconvert_exporter": "python",
   "pygments_lexer": "ipython3",
   "version": "3.9.5"
  },
  "vscode": {
   "interpreter": {
    "hash": "a698f83edc2ebfec47c40425dc9a7ec3b7c4472134519737919feddf9343d744"
   }
  }
 },
 "nbformat": 4,
 "nbformat_minor": 5
}
